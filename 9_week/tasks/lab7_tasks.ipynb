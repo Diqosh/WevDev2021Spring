{
 "cells": [
  {
   "cell_type": "markdown",
   "id": "397c23fd",
   "metadata": {},
   "source": [
    "# Tlezhanuly Dinmukhammed id: 20D030341"
   ]
  },
  {
   "cell_type": "markdown",
   "id": "5bfac6f8",
   "metadata": {},
   "source": [
    "# 1.Informatics"
   ]
  },
  {
   "cell_type": "markdown",
   "id": "b3be29db",
   "metadata": {},
   "source": [
    " #####       1.Ввод-вывод: Задачи на ввод-вывод и арифметические операции (А-E)"
   ]
  },
  {
   "cell_type": "code",
   "execution_count": null,
   "id": "3b1a1b87",
   "metadata": {},
   "outputs": [],
   "source": [
    "a = int(input())\n",
    "b = int(input())\n",
    "print((a**2 + b**2)**0.5)"
   ]
  },
  {
   "cell_type": "code",
   "execution_count": null,
   "id": "b6c80c25",
   "metadata": {},
   "outputs": [],
   "source": [
    "a = int(input())\n",
    "print(f'The next number for the number {a} is {a+1}.')\n",
    "print(f'The previous number for the number {a} is {a-1}.')"
   ]
  },
  {
   "cell_type": "code",
   "execution_count": null,
   "id": "b9e34b62",
   "metadata": {},
   "outputs": [],
   "source": [
    "a = int(input())\n",
    "c = int(input())\n",
    "print(c//a)"
   ]
  },
  {
   "cell_type": "code",
   "execution_count": null,
   "id": "d9131597",
   "metadata": {},
   "outputs": [],
   "source": [
    "a = int(input())\n",
    "c = int(input())\n",
    "print(c % a)"
   ]
  },
  {
   "cell_type": "code",
   "execution_count": null,
   "id": "7a084c8c",
   "metadata": {},
   "outputs": [],
   "source": [
    "v = int(input())\n",
    "    t = int(input())\n",
    "    print(v * t % 109)"
   ]
  },
  {
   "cell_type": "markdown",
   "id": "23c741a5",
   "metadata": {},
   "source": [
    " #####       2.Условный оператор (А-Е)"
   ]
  },
  {
   "cell_type": "code",
   "execution_count": null,
   "id": "2dcde6b0",
   "metadata": {},
   "outputs": [],
   "source": [
    "a = int(input())\n",
    "b = int(input())\n",
    "if a > b:\n",
    "    print(a)\n",
    "else:\n",
    "    print(b)"
   ]
  },
  {
   "cell_type": "code",
   "execution_count": null,
   "id": "be4297b7",
   "metadata": {},
   "outputs": [],
   "source": [
    "if __name__ == '__main__':\n",
    "    a = int(input())\n",
    "    if a % 400 == 0:\n",
    "        print(\"YES\")\n",
    "        exit()\n",
    "\n",
    "    if a % 100 == 0:\n",
    "        print(\"NO\")\n",
    "        exit()\n",
    "\n",
    "    if a % 4 == 0:\n",
    "        print(\"YES\")\n",
    "    else:\n",
    "        print(\"NO\")"
   ]
  },
  {
   "cell_type": "code",
   "execution_count": null,
   "id": "c93edf98",
   "metadata": {},
   "outputs": [],
   "source": [
    "t = int(input())\n",
    "    s = int(input())\n",
    "    print('YES' if (t == 1 and s == 1) or (t != 1 and s != 1) else 'NO')"
   ]
  },
  {
   "cell_type": "code",
   "execution_count": null,
   "id": "bb994ea6",
   "metadata": {},
   "outputs": [],
   "source": [
    "print((lambda x: 1 if x > 0 else -1 if x < 0 else 0)(int(input())))"
   ]
  },
  {
   "cell_type": "code",
   "execution_count": null,
   "id": "2ff129b0",
   "metadata": {},
   "outputs": [],
   "source": [
    "print((lambda x, y: 1 if x > y else 2 if x < y else 0)(int(input()), int(input())))"
   ]
  },
  {
   "cell_type": "markdown",
   "id": "41f232f9",
   "metadata": {},
   "source": [
    " #####       Цикл for (A-M)\n"
   ]
  },
  {
   "cell_type": "code",
   "execution_count": null,
   "id": "19a0d6ae",
   "metadata": {},
   "outputs": [],
   "source": [
    "print(*range( (lambda x: x + x % 2)( int(input()) ), int(input()) + 1, 2))"
   ]
  },
  {
   "cell_type": "code",
   "execution_count": null,
   "id": "d98fc8dc",
   "metadata": {},
   "outputs": [],
   "source": [
    "print(*(lambda a, b, c, d: filter(lambda x: x % d == c, range(a, b + 1)))( int(input()), int(input()), int(input()), int(input()) ))"
   ]
  },
  {
   "cell_type": "code",
   "execution_count": null,
   "id": "c59e588c",
   "metadata": {},
   "outputs": [],
   "source": [
    "from math import sqrt\n",
    "print(*(lambda a, b: filter(lambda x: int(sqrt(x)) * int(sqrt(x)) == x, range(a, b + 1)))( int(input()), int(input()) ))"
   ]
  },
  {
   "cell_type": "code",
   "execution_count": null,
   "id": "6b38a838",
   "metadata": {},
   "outputs": [],
   "source": [
    "print(input().count(input()))"
   ]
  },
  {
   "cell_type": "code",
   "execution_count": null,
   "id": "20168ab7",
   "metadata": {},
   "outputs": [],
   "source": [
    "from functools import reduce\n",
    "print(reduce(lambda x, y: int(x) + int(y), input()))"
   ]
  },
  {
   "cell_type": "code",
   "execution_count": null,
   "id": "2fd9e194",
   "metadata": {},
   "outputs": [],
   "source": [
    "print(input()[::-1].lstrip('0'))"
   ]
  },
  {
   "cell_type": "code",
   "execution_count": null,
   "id": "0e67c2ea",
   "metadata": {},
   "outputs": [],
   "source": [
    "from math import sqrt\n",
    "\n",
    "n = int(input())\n",
    "\n",
    "for i in range(2, int(sqrt(n) + 1)):\n",
    "    if n % i == 0:\n",
    "        print(i)\n",
    "        exit(0)\n",
    "\n",
    "print(n)\n"
   ]
  },
  {
   "cell_type": "code",
   "execution_count": null,
   "id": "a41a25bb",
   "metadata": {},
   "outputs": [],
   "source": [
    "print(* (lambda x: filter(lambda y: x % y == 0, range(1, x + 1)))(int(input())) )"
   ]
  },
  {
   "cell_type": "code",
   "execution_count": null,
   "id": "bb3ea7f2",
   "metadata": {},
   "outputs": [],
   "source": [
    "n = int(input())\n",
    "cnt = 0\n",
    "\n",
    "from math import sqrt\n",
    "for i in range(1, int(sqrt(n) + 1)):\n",
    "    if n % i == 0:\n",
    "        cnt += 1 + (n / i != i)\n",
    "\n",
    "print(cnt)"
   ]
  },
  {
   "cell_type": "code",
   "execution_count": null,
   "id": "29bcaad8",
   "metadata": {},
   "outputs": [],
   "source": [
    "print(sum(int(input()) for _ in range(100)))"
   ]
  },
  {
   "cell_type": "code",
   "execution_count": null,
   "id": "64e622b2",
   "metadata": {},
   "outputs": [],
   "source": [
    "n = int(input())\n",
    "print(sum(int(input()) for _ in range(n)))"
   ]
  },
  {
   "cell_type": "code",
   "execution_count": null,
   "id": "bf8ef6a5",
   "metadata": {},
   "outputs": [],
   "source": [
    "print(sum(2 ** pos * int(el) for pos, el in enumerate(input()[::-1])))"
   ]
  },
  {
   "cell_type": "code",
   "execution_count": null,
   "id": "15c6771e",
   "metadata": {},
   "outputs": [],
   "source": [
    "n = int(input())\n",
    "print(sum(int(input()) == 0 for _ in range(n)))"
   ]
  },
  {
   "cell_type": "markdown",
   "id": "e608275d",
   "metadata": {},
   "source": [
    " #####       Цикл while (А-E)"
   ]
  },
  {
   "cell_type": "code",
   "execution_count": null,
   "id": "ffc6eff6",
   "metadata": {},
   "outputs": [],
   "source": [
    "n = int(input())\n",
    "for i in range(1, n + 1):\n",
    "    if i * i > n: break\n",
    "    print(i * i)"
   ]
  },
  {
   "cell_type": "code",
   "execution_count": null,
   "id": "b70ad1a5",
   "metadata": {},
   "outputs": [],
   "source": [
    "from math import sqrt\n",
    "\n",
    "n = int(input())\n",
    "\n",
    "for i in range(2, int(sqrt(n) + 1)):\n",
    "    if n % i == 0:\n",
    "        print(i)\n",
    "        exit(0)\n",
    "\n",
    "print(n)\n"
   ]
  },
  {
   "cell_type": "code",
   "execution_count": null,
   "id": "47eef3e4",
   "metadata": {},
   "outputs": [],
   "source": [
    "n = int(input())\n",
    "for i in range(n + 1):\n",
    "    if 2 ** i > n: break\n",
    "    print(2 ** i, end=' ')"
   ]
  },
  {
   "cell_type": "code",
   "execution_count": null,
   "id": "73c21a6f",
   "metadata": {},
   "outputs": [],
   "source": [
    "n = int(input())\n",
    "print('YES' if (n & (n - 1)) == 0 else 'NO')"
   ]
  },
  {
   "cell_type": "code",
   "execution_count": null,
   "id": "dcd52b75",
   "metadata": {},
   "outputs": [],
   "source": [
    "n = int(input())\n",
    "k = 0\n",
    "res = 1\n",
    "while res < n:\n",
    "    k += 1\n",
    "    res *= 2\n",
    "print(k)"
   ]
  },
  {
   "cell_type": "markdown",
   "id": "a54ee2ca",
   "metadata": {},
   "source": [
    " #####       Массивы (А-G)"
   ]
  },
  {
   "cell_type": "code",
   "execution_count": null,
   "id": "64e8172d",
   "metadata": {},
   "outputs": [],
   "source": [
    "input()\n",
    "print(*input().split()[::2])"
   ]
  },
  {
   "cell_type": "code",
   "execution_count": null,
   "id": "5cd13928",
   "metadata": {},
   "outputs": [],
   "source": [
    "input()\n",
    "print(*filter(lambda x: x % 2 == 0, map(int, input().split())))"
   ]
  },
  {
   "cell_type": "code",
   "execution_count": null,
   "id": "ca5bed91",
   "metadata": {},
   "outputs": [],
   "source": [
    "input()\n",
    "print(len(list(filter(lambda x: x > 0, map(int, input().split())))))"
   ]
  },
  {
   "cell_type": "code",
   "execution_count": null,
   "id": "61c18a69",
   "metadata": {},
   "outputs": [],
   "source": [
    "input()\n",
    "a = list(map(int, input().split()))\n",
    "cnt = 0\n",
    "\n",
    "for i, el in enumerate(a[1:]):\n",
    "    cnt += a[i + 1] > a[i]\n",
    "\n",
    "print(cnt)\n"
   ]
  },
  {
   "cell_type": "code",
   "execution_count": null,
   "id": "0004ab42",
   "metadata": {},
   "outputs": [],
   "source": [
    "input()\n",
    "a = list(map(int, input().split()))\n",
    "cnt = 0\n",
    "sign = lambda x: 1 if x > 0 else -1 if x < 0 else 0\n",
    "for i, el in enumerate(a[1:]):\n",
    "    cnt += sign(a[i + 1]) == sign(a[i])\n",
    "\n",
    "print('YES' if cnt else 'NO')\n"
   ]
  },
  {
   "cell_type": "code",
   "execution_count": null,
   "id": "2100380d",
   "metadata": {},
   "outputs": [],
   "source": [
    "n = int(input())\n",
    "a = [2 ** 32] + list(map(int, input().split())) + [2**32]\n",
    "cnt = 0\n",
    "\n",
    "for i in range(1, n + 1):\n",
    "    cnt += a[i - 1] < a[i] and a[i] > a[i + 1]\n",
    "\n",
    "print(cnt)\n"
   ]
  },
  {
   "cell_type": "code",
   "execution_count": null,
   "id": "d235ec0b",
   "metadata": {},
   "outputs": [],
   "source": [
    "input()\n",
    "a = input().split()[::-1]\n",
    "print(*a)"
   ]
  },
  {
   "cell_type": "markdown",
   "id": "c629aff4",
   "metadata": {},
   "source": [
    " #####       Функции (А-С)"
   ]
  },
  {
   "cell_type": "code",
   "execution_count": null,
   "id": "b4f51eef",
   "metadata": {},
   "outputs": [],
   "source": [
    "def min_4_int(a: int, b: int, c: int, d: int) -> int:\n",
    "    return min(a, b, c, d)\n",
    "\n",
    "print(min_4_int(*map(int, input().split())))\n"
   ]
  },
  {
   "cell_type": "code",
   "execution_count": null,
   "id": "a383a059",
   "metadata": {},
   "outputs": [],
   "source": [
    "def pow(a: float, n: int) -> float:\n",
    "    return a ** n\n",
    "\n",
    "print(pow(*map(float, input().split())))\n"
   ]
  },
  {
   "cell_type": "code",
   "execution_count": null,
   "id": "60cf3fa3",
   "metadata": {},
   "outputs": [],
   "source": [
    "def xor(x: bool, y: bool) -> bool:\n",
    "    return x != y\n",
    "\n",
    "print(int(xor(*map(int, input().split()))))\n"
   ]
  },
  {
   "cell_type": "markdown",
   "id": "8d9c7007",
   "metadata": {},
   "source": [
    " #       2Hackerrank"
   ]
  },
  {
   "cell_type": "code",
   "execution_count": null,
   "id": "5768ed7e",
   "metadata": {},
   "outputs": [],
   "source": [
    "\n",
    "print(\"Hello, World!\")"
   ]
  },
  {
   "cell_type": "code",
   "execution_count": null,
   "id": "a23ce252",
   "metadata": {},
   "outputs": [],
   "source": [
    "\n",
    "s = ''\n",
    "\n",
    "n = int(input())\n",
    "\n",
    "if n % 2 == 1:\n",
    "    s = 'Weird'\n",
    "elif n <= 4 or n > 20:\n",
    "    s = 'Not Weird'\n",
    "else:\n",
    "    s = 'Weird'\n",
    "\n",
    "print(s)\n",
    "\n"
   ]
  },
  {
   "cell_type": "code",
   "execution_count": null,
   "id": "222c0f8a",
   "metadata": {},
   "outputs": [],
   "source": [
    "\n",
    "\n",
    "a = int(input())\n",
    "b = int(input())\n",
    "\n",
    "print(a + b, a - b, a * b, sep='\\n')\n"
   ]
  },
  {
   "cell_type": "code",
   "execution_count": null,
   "id": "b1e0e73e",
   "metadata": {},
   "outputs": [],
   "source": [
    "\n",
    "a = int(input())\n",
    "b = int(input())\n",
    "\n",
    "print(a // b, a / b, sep='\\n')\n"
   ]
  },
  {
   "cell_type": "code",
   "execution_count": null,
   "id": "adb9c1cf",
   "metadata": {},
   "outputs": [],
   "source": [
    "\n",
    "print(*(i**2 for i in range(int(input()))), sep='\\n')\n"
   ]
  },
  {
   "cell_type": "code",
   "execution_count": null,
   "id": "87a365d5",
   "metadata": {},
   "outputs": [],
   "source": [
    "\n",
    "def is_leap(y):\n",
    "    leap = False\n",
    "    \n",
    "    leap = y % 400 == 0 or (y % 4 == 0 and y % 100 != 0)\n",
    "    \n",
    "    return leap\n",
    "\n",
    "year = int(input())\n",
    "print(is_leap(year))"
   ]
  },
  {
   "cell_type": "code",
   "execution_count": null,
   "id": "d959420c",
   "metadata": {},
   "outputs": [],
   "source": [
    "\n",
    "print(''.join(str(i) for i in range(1, int(input()) + 1)))\n"
   ]
  },
  {
   "cell_type": "code",
   "execution_count": null,
   "id": "82f2b31d",
   "metadata": {},
   "outputs": [],
   "source": [
    "\n",
    "import math\n",
    "\n",
    "class Points(object):\n",
    "    def __init__(self, x, y, z):\n",
    "        self.x = x\n",
    "        self.y = y\n",
    "        self.z = z\n",
    "    def __sub__(self, no):\n",
    "        p = Points(self.x - no.x, self.y - no.y, self.z - no.z)\n",
    "        return p\n",
    "    def dot(self, no):\n",
    "        return self.x * no.x + self.y * no.y + self.z * no.z\n",
    "    def cross(self, no):\n",
    "        return Points(self.y * no.z - self.z * no.y,\n",
    "                      self.z * no.x - self.x * no.z,\n",
    "                      self.x * no.y - self.y * no.x)\n",
    "    def absolute(self):\n",
    "        return pow((self.x ** 2 + self.y ** 2 + self.z ** 2), 0.5)\n",
    "\n",
    "if __name__ == '__main__':\n",
    "    points = list()\n",
    "    for i in range(4):\n",
    "        a = list(map(float, input().split()))\n",
    "        points.append(a)\n",
    "\n",
    "    a, b, c, d = Points(*points[0]), Points(*points[1]), Points(*points[2]), Points(*points[3])\n",
    "    x = (b - a).cross(c - b)\n",
    "    y = (c - b).cross(d - c)\n",
    "    angle = math.acos(x.dot(y) / (x.absolute() * y.absolute()))\n",
    "\n",
    "    print(\"%.2f\" % math.degrees(angle))"
   ]
  },
  {
   "cell_type": "code",
   "execution_count": null,
   "id": "b7c3d0b7",
   "metadata": {},
   "outputs": [],
   "source": [
    "\n",
    "for t in range(int(input())):\n",
    "    input()\n",
    "    s1 = set(input().split())\n",
    "    input()\n",
    "    s2 = set(input().split())\n",
    "    print(len(s1.difference(s2)) == 0)\n"
   ]
  },
  {
   "cell_type": "code",
   "execution_count": null,
   "id": "f25ab30f",
   "metadata": {},
   "outputs": [],
   "source": [
    "\n",
    "a = set(input().split())\n",
    "x = (set(input().split()) for _ in range(int(input())))\n",
    "\n",
    "print(all(map(lambda s: len(a.difference(s)) != 0 and len(s.difference(a)) == 0, x)))    \n",
    "\n"
   ]
  }
 ],
 "metadata": {
  "kernelspec": {
   "display_name": "Python 3 (ipykernel)",
   "language": "python",
   "name": "python3"
  },
  "language_info": {
   "codemirror_mode": {
    "name": "ipython",
    "version": 3
   },
   "file_extension": ".py",
   "mimetype": "text/x-python",
   "name": "python",
   "nbconvert_exporter": "python",
   "pygments_lexer": "ipython3",
   "version": "3.9.7"
  }
 },
 "nbformat": 4,
 "nbformat_minor": 5
}
